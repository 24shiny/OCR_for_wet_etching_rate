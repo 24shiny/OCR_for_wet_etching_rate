{
 "cells": [
  {
   "cell_type": "code",
   "execution_count": 1,
   "id": "5275dad6-0637-46a7-8939-2ffb346466b9",
   "metadata": {},
   "outputs": [
    {
     "data": {
      "text/plain": [
       "array([-0.58226371,  3.22870478, -1.98599767])"
      ]
     },
     "execution_count": 1,
     "metadata": {},
     "output_type": "execute_result"
    }
   ],
   "source": [
    "import numpy as np\n",
    "\n",
    "A = np.array([[8, 3, -2], [-4, 7, 5], [3, 4, -12]]) # 8x + 3y - 2z = 9, ...\n",
    "b = np.array([9, 15, 35])\n",
    "x = np.linalg.solve(A, b)\n",
    "x"
   ]
  },
  {
   "cell_type": "code",
   "execution_count": 2,
   "id": "cf76231a-38eb-4fb4-8b77-6804245aba95",
   "metadata": {},
   "outputs": [],
   "source": [
    "import pandas as pd\n",
    "import seaborn as sns\n",
    "import matplotlib.pyplot as plt"
   ]
  },
  {
   "cell_type": "code",
   "execution_count": 6,
   "id": "8ddda7ff-150f-4eac-a205-198c1f0d79cf",
   "metadata": {},
   "outputs": [
    {
     "data": {
      "text/html": [
       "<div>\n",
       "<style scoped>\n",
       "    .dataframe tbody tr th:only-of-type {\n",
       "        vertical-align: middle;\n",
       "    }\n",
       "\n",
       "    .dataframe tbody tr th {\n",
       "        vertical-align: top;\n",
       "    }\n",
       "\n",
       "    .dataframe thead th {\n",
       "        text-align: right;\n",
       "    }\n",
       "</style>\n",
       "<table border=\"1\" class=\"dataframe\">\n",
       "  <thead>\n",
       "    <tr style=\"text-align: right;\">\n",
       "      <th></th>\n",
       "      <th>W2</th>\n",
       "      <th>W1</th>\n",
       "      <th>C</th>\n",
       "      <th>E1</th>\n",
       "      <th>E2</th>\n",
       "    </tr>\n",
       "    <tr>\n",
       "      <th>cm</th>\n",
       "      <th></th>\n",
       "      <th></th>\n",
       "      <th></th>\n",
       "      <th></th>\n",
       "      <th></th>\n",
       "    </tr>\n",
       "  </thead>\n",
       "  <tbody>\n",
       "    <tr>\n",
       "      <th>4.00</th>\n",
       "      <td>751659</td>\n",
       "      <td>751617</td>\n",
       "      <td>758056</td>\n",
       "      <td>752481</td>\n",
       "      <td>750970</td>\n",
       "    </tr>\n",
       "    <tr>\n",
       "      <th>5.00</th>\n",
       "      <td>751455</td>\n",
       "      <td>751604</td>\n",
       "      <td>758621</td>\n",
       "      <td>753211</td>\n",
       "      <td>751638</td>\n",
       "    </tr>\n",
       "    <tr>\n",
       "      <th>5.25</th>\n",
       "      <td>751488</td>\n",
       "      <td>751700</td>\n",
       "      <td>758792</td>\n",
       "      <td>753395</td>\n",
       "      <td>751804</td>\n",
       "    </tr>\n",
       "    <tr>\n",
       "      <th>5.50</th>\n",
       "      <td>751542</td>\n",
       "      <td>751856</td>\n",
       "      <td>759008</td>\n",
       "      <td>753605</td>\n",
       "      <td>751994</td>\n",
       "    </tr>\n",
       "    <tr>\n",
       "      <th>5.75</th>\n",
       "      <td>751644</td>\n",
       "      <td>752061</td>\n",
       "      <td>759252</td>\n",
       "      <td>753838</td>\n",
       "      <td>752185</td>\n",
       "    </tr>\n",
       "  </tbody>\n",
       "</table>\n",
       "</div>"
      ],
      "text/plain": [
       "          W2      W1       C      E1      E2\n",
       "cm                                          \n",
       "4.00  751659  751617  758056  752481  750970\n",
       "5.00  751455  751604  758621  753211  751638\n",
       "5.25  751488  751700  758792  753395  751804\n",
       "5.50  751542  751856  759008  753605  751994\n",
       "5.75  751644  752061  759252  753838  752185"
      ]
     },
     "execution_count": 6,
     "metadata": {},
     "output_type": "execute_result"
    }
   ],
   "source": [
    "n = pd.read_csv('2_T.csv', index_col='cm')\n",
    "e = pd.read_csv('2_E.csv', index_col='cm')\n",
    "s = pd.read_csv('2_B.csv', index_col='cm')\n",
    "w = pd.read_csv('2_W.csv', index_col='cm')\n",
    "w.head()"
   ]
  },
  {
   "cell_type": "code",
   "execution_count": 15,
   "id": "7bd0297c-5797-4d8f-b23f-eba9f43786e3",
   "metadata": {},
   "outputs": [
    {
     "data": {
      "text/plain": [
       "Index([4.0, 5.0, 5.25, 5.5, 5.75, 6.0, 7.0, 8.0, 9.0, 10.0, 10.7], dtype='float64', name='cm')"
      ]
     },
     "execution_count": 15,
     "metadata": {},
     "output_type": "execute_result"
    }
   ],
   "source": [
    "w.index"
   ]
  },
  {
   "cell_type": "code",
   "execution_count": 9,
   "id": "896c78f9-c9c0-41c8-b381-ae91ae485cc2",
   "metadata": {},
   "outputs": [
    {
     "data": {
      "text/plain": [
       "array([739345, 751792, 750023, 751446, 748255, 748981, 751604, 749901,\n",
       "       751953, 749346, 748961, 751632, 749929, 752139, 749573, 748956,\n",
       "       751790, 750130, 752689, 750453, 748961, 751792, 750131, 752691,\n",
       "       750455, 749036, 751941, 750297, 752995, 750841, 748442, 751618,\n",
       "       750169, 753700, 752079, 748392, 751716, 750543, 754956, 753913,\n",
       "       748247, 751701, 750800, 756199, 755962, 748104, 751738, 751174,\n",
       "       757559, 758341, 747140, 750798, 750352, 757325, 758926, 745448,\n",
       "       752241, 746886, 753332, 749444, 745503, 752213, 746785, 753805,\n",
       "       750951, 745517, 752235, 746809, 754001, 751322, 745524, 752255,\n",
       "       746866, 754224, 751745, 745585, 752320, 746989, 754491, 752145,\n",
       "       745669, 752415, 747119, 754761, 752538, 744943, 751957, 746886,\n",
       "       755192, 753531, 744512, 751922, 747167, 755985, 754944, 743944,\n",
       "       751757, 747357, 756794, 756559, 743298, 751673, 747845, 758182,\n",
       "       758822, 742010, 750734, 747273, 758217, 759457, 754363, 751035,\n",
       "       755881, 751587, 750478, 753628, 750885, 755723, 751604, 750985,\n",
       "       753530, 750912, 755782, 751718, 751202, 753441, 750971, 755871,\n",
       "       751883, 751480, 753395, 751091, 756038, 752106, 751823, 753413,\n",
       "       751270, 756247, 752351, 752153, 752540, 751125, 756294, 752823,\n",
       "       753270, 752128, 751466, 756915, 753917, 755146, 751673, 751698,\n",
       "       757417, 754929, 756999, 751175, 751959, 758135, 756235, 759186,\n",
       "       750027, 751143, 757527, 755961, 759491, 751659, 751617, 758056,\n",
       "       752481, 750970, 751455, 751604, 758621, 753211, 751638, 751488,\n",
       "       751700, 758792, 753395, 751804, 751542, 751856, 759008, 753605,\n",
       "       751994, 751644, 752061, 759252, 753838, 752185, 751816, 752339,\n",
       "       759533, 754074, 752356, 751636, 752450, 759642, 754123, 752492,\n",
       "       751883, 752834, 759894, 754563, 753367, 751862, 752760, 759747,\n",
       "       754967, 754760, 751591, 752525, 759769, 755981, 757029, 750480,\n",
       "       751334, 758842, 755784, 757657])"
      ]
     },
     "execution_count": 9,
     "metadata": {},
     "output_type": "execute_result"
    }
   ],
   "source": [
    "rhs = np.concatenate((np.array(n.values.tolist()).flatten(),np.array(e.values.tolist()).flatten(),np.array(s.values.tolist()).flatten(),np.array(w.values.tolist()).flatten()))\n",
    "rhs"
   ]
  },
  {
   "cell_type": "code",
   "execution_count": 12,
   "id": "e526a735-d653-40be-8509-570f5053d7e0",
   "metadata": {},
   "outputs": [
    {
     "data": {
      "text/plain": [
       "array([[1., 0., 0., 1., 0., 0.],\n",
       "       [0., 1., 0., 0., 1., 0.],\n",
       "       [0., 0., 1., 0., 0., 1.]])"
      ]
     },
     "execution_count": 12,
     "metadata": {},
     "output_type": "execute_result"
    }
   ],
   "source": [
    "np.concatenate((np.identity(3), np.identity(3)), axis=1)"
   ]
  },
  {
   "cell_type": "code",
   "execution_count": 14,
   "id": "d4582905-b03b-45af-88b5-693f4f065d25",
   "metadata": {},
   "outputs": [],
   "source": [
    "N = np.concatenate((np.identity(55), np.identity(55)), axis=1)"
   ]
  },
  {
   "cell_type": "code",
   "execution_count": null,
   "id": "02769c91-923f-4c37-980b-14d67d8c5a69",
   "metadata": {},
   "outputs": [],
   "source": [
    "temp = np.zeros((55,55))\n",
    "for i in range(1,6):\n",
    "    for j in range(1,6):\n",
    "        "
   ]
  },
  {
   "cell_type": "code",
   "execution_count": 16,
   "id": "247ef0a7-ea59-49e8-a007-e2055113b492",
   "metadata": {},
   "outputs": [
    {
     "name": "stdout",
     "output_type": "stream",
     "text": [
      "754032.25 4751.572969817469\n"
     ]
    }
   ],
   "source": [
    "center = np.array([751174, 747845, 757341, 759769])\n",
    "print(np.mean(center), np.std(center))"
   ]
  },
  {
   "cell_type": "code",
   "execution_count": 18,
   "id": "8894b9da-2cb4-4924-8ef0-e07d319d4873",
   "metadata": {},
   "outputs": [
    {
     "data": {
      "text/plain": [
       "array([-2858.25, -6187.25,  3308.75,  5736.75])"
      ]
     },
     "execution_count": 18,
     "metadata": {},
     "output_type": "execute_result"
    }
   ],
   "source": [
    "error = center - np.mean(center)\n",
    "error"
   ]
  },
  {
   "cell_type": "code",
   "execution_count": 21,
   "id": "369c1d90-52b8-481c-906d-5d3ee6dc6e42",
   "metadata": {},
   "outputs": [
    {
     "data": {
      "text/plain": [
       "array([[0., 0., 0., 0., 0., 0., 0., 0., 0.],\n",
       "       [0., 0., 0., 0., 0., 0., 0., 0., 0.],\n",
       "       [0., 0., 0., 0., 0., 0., 0., 0., 0.],\n",
       "       [0., 0., 0., 0., 0., 0., 0., 0., 0.],\n",
       "       [0., 0., 0., 0., 0., 0., 0., 0., 0.],\n",
       "       [0., 0., 0., 0., 0., 0., 0., 0., 0.],\n",
       "       [0., 0., 0., 0., 0., 0., 0., 0., 0.]])"
      ]
     },
     "execution_count": 21,
     "metadata": {},
     "output_type": "execute_result"
    }
   ],
   "source": [
    "temp = np.zeros((7,9))\n",
    "temp"
   ]
  },
  {
   "cell_type": "code",
   "execution_count": 22,
   "id": "98b0ef24-3d43-4d0c-9f7a-bd5825de142c",
   "metadata": {},
   "outputs": [
    {
     "data": {
      "text/plain": [
       "array([0., 0., 0., 0., 0., 0., 0., 0., 0.])"
      ]
     },
     "execution_count": 22,
     "metadata": {},
     "output_type": "execute_result"
    }
   ],
   "source": [
    "temp[0]"
   ]
  },
  {
   "cell_type": "code",
   "execution_count": 25,
   "id": "2aa3b53f-fe87-4c84-9fa4-4f74d340f7aa",
   "metadata": {},
   "outputs": [],
   "source": [
    "# fill the temp\n",
    "for i in range(7): # iterrows\n",
    "    if i in [0,2,6]:\n",
    "        temp[i] = [1,0,1,0,0,0,1,0,1] #w1, w3, w7, w9\n",
    "    elif i in [1,3,5]:\n",
    "        temp[i] = [0,1,0,1,0,1,0,1,0] #2,4,6,8\n",
    "    else:\n",
    "        temp[i] = [0,0,0,0,1,0,0,0,0]\n",
    "temp = np.array(temp)"
   ]
  },
  {
   "cell_type": "code",
   "execution_count": 28,
   "id": "1aed9e98-4e97-437d-ab30-f5b6b78a0751",
   "metadata": {},
   "outputs": [
    {
     "data": {
      "text/plain": [
       "array([[1., 0., 0., 0., 0., 0., 0., 1., 0., 1., 0., 0., 0., 1., 0., 1.],\n",
       "       [0., 1., 0., 0., 0., 0., 0., 0., 1., 0., 1., 0., 1., 0., 1., 0.],\n",
       "       [0., 0., 1., 0., 0., 0., 0., 1., 0., 1., 0., 0., 0., 1., 0., 1.],\n",
       "       [0., 0., 0., 1., 0., 0., 0., 0., 1., 0., 1., 0., 1., 0., 1., 0.],\n",
       "       [0., 0., 0., 0., 1., 0., 0., 0., 0., 0., 0., 1., 0., 0., 0., 0.],\n",
       "       [0., 0., 0., 0., 0., 1., 0., 0., 1., 0., 1., 0., 1., 0., 1., 0.],\n",
       "       [0., 0., 0., 0., 0., 0., 1., 1., 0., 1., 0., 0., 0., 1., 0., 1.]])"
      ]
     },
     "execution_count": 28,
     "metadata": {},
     "output_type": "execute_result"
    }
   ],
   "source": [
    "top = np.concatenate((np.identity(7), temp), axis=1)\n",
    "top"
   ]
  },
  {
   "cell_type": "code",
   "execution_count": 66,
   "id": "6e308b7c-d832-4092-a7f2-fa37648e156c",
   "metadata": {},
   "outputs": [
    {
     "data": {
      "text/plain": [
       "array([[0., 0., 0., 0., 0., 0., 0.],\n",
       "       [0., 0., 0., 0., 0., 0., 0.],\n",
       "       [0., 0., 0., 0., 0., 0., 0.],\n",
       "       [0., 0., 0., 0., 0., 0., 0.],\n",
       "       [0., 0., 0., 0., 0., 0., 0.],\n",
       "       [0., 0., 0., 0., 0., 0., 0.],\n",
       "       [0., 0., 0., 0., 0., 0., 0.],\n",
       "       [0., 0., 0., 0., 0., 0., 0.],\n",
       "       [0., 0., 0., 0., 0., 0., 0.]])"
      ]
     },
     "execution_count": 66,
     "metadata": {},
     "output_type": "execute_result"
    }
   ],
   "source": [
    "temp2 = np.zeros((9,7))\n",
    "temp2"
   ]
  },
  {
   "cell_type": "code",
   "execution_count": 67,
   "id": "427ef2d9-94d5-4c5e-ba08-25d83166357b",
   "metadata": {},
   "outputs": [
    {
     "data": {
      "text/plain": [
       "array([[1., 0., 1., 0., 0., 0., 1.],\n",
       "       [0., 1., 0., 1., 0., 1., 0.],\n",
       "       [1., 0., 1., 0., 0., 0., 1.],\n",
       "       [0., 1., 0., 1., 0., 1., 0.],\n",
       "       [0., 1., 0., 1., 0., 1., 0.],\n",
       "       [0., 0., 0., 0., 0., 0., 0.],\n",
       "       [1., 0., 1., 0., 0., 0., 1.],\n",
       "       [0., 1., 0., 1., 0., 1., 0.],\n",
       "       [1., 0., 1., 0., 0., 0., 1.]])"
      ]
     },
     "execution_count": 67,
     "metadata": {},
     "output_type": "execute_result"
    }
   ],
   "source": [
    "for i in range(9):\n",
    "    if i in [0,2,6,8]:\n",
    "        temp2[i] = [1,0,1,0,0,0,1] #1,3,7\n",
    "    elif i in [1,3,4,7]:\n",
    "        temp2[i] = [0,1,0,1,0,1,0] #2,4,6\n",
    "temp2 "
   ]
  },
  {
   "cell_type": "code",
   "execution_count": 68,
   "id": "e0bf8238-26f7-44ee-a728-40960b174f35",
   "metadata": {},
   "outputs": [
    {
     "data": {
      "text/plain": [
       "array([[1., 0., 1., 0., 0., 0., 1., 1., 0., 0., 0., 0., 0., 0., 0., 0.],\n",
       "       [0., 1., 0., 1., 0., 1., 0., 0., 1., 0., 0., 0., 0., 0., 0., 0.],\n",
       "       [1., 0., 1., 0., 0., 0., 1., 0., 0., 1., 0., 0., 0., 0., 0., 0.],\n",
       "       [0., 1., 0., 1., 0., 1., 0., 0., 0., 0., 1., 0., 0., 0., 0., 0.],\n",
       "       [0., 1., 0., 1., 0., 1., 0., 0., 0., 0., 0., 1., 0., 0., 0., 0.],\n",
       "       [0., 0., 0., 0., 0., 0., 0., 0., 0., 0., 0., 0., 1., 0., 0., 0.],\n",
       "       [1., 0., 1., 0., 0., 0., 1., 0., 0., 0., 0., 0., 0., 1., 0., 0.],\n",
       "       [0., 1., 0., 1., 0., 1., 0., 0., 0., 0., 0., 0., 0., 0., 1., 0.],\n",
       "       [1., 0., 1., 0., 0., 0., 1., 0., 0., 0., 0., 0., 0., 0., 0., 1.]])"
      ]
     },
     "execution_count": 68,
     "metadata": {},
     "output_type": "execute_result"
    }
   ],
   "source": [
    "bottom = np.concatenate((temp2,np.identity(9)), axis=1)\n",
    "bottom"
   ]
  },
  {
   "cell_type": "code",
   "execution_count": 60,
   "id": "196958e4-205a-4bc8-966c-27db75374af9",
   "metadata": {},
   "outputs": [
    {
     "data": {
      "text/plain": [
       "array([[1., 0., 1., 0., 0., 0., 1., 1., 0., 0., 0., 0., 0., 0., 0., 0.],\n",
       "       [0., 1., 0., 1., 0., 1., 0., 0., 1., 0., 0., 0., 0., 0., 0., 0.],\n",
       "       [1., 0., 1., 0., 0., 0., 1., 0., 0., 1., 0., 0., 0., 0., 0., 0.],\n",
       "       [0., 1., 0., 1., 0., 1., 0., 0., 0., 0., 1., 0., 0., 0., 0., 0.],\n",
       "       [0., 1., 0., 1., 0., 1., 0., 0., 0., 0., 0., 1., 0., 0., 0., 0.],\n",
       "       [1., 0., 1., 0., 0., 0., 1., 0., 0., 0., 0., 0., 0., 1., 0., 0.],\n",
       "       [0., 1., 0., 1., 0., 1., 0., 0., 0., 0., 0., 0., 0., 0., 1., 0.],\n",
       "       [1., 0., 1., 0., 0., 0., 1., 0., 0., 0., 0., 0., 0., 0., 0., 1.]])"
      ]
     },
     "execution_count": 60,
     "metadata": {},
     "output_type": "execute_result"
    }
   ],
   "source": [
    "# bottom = np.delete(bottom, 5, axis=0)\n",
    "# bottom"
   ]
  },
  {
   "cell_type": "code",
   "execution_count": 80,
   "id": "62fb24b1-2e37-4b46-a7cb-190d35da0492",
   "metadata": {},
   "outputs": [],
   "source": [
    "A = np.concatenate((top, bottom), axis=0)\n",
    "center = 754032\n",
    "b = np.array([3009664, 3012046, 2984495, 3009826, center, 3027679, 3030850, \n",
    "              2260436, 2260876, 2251648, 2254581, center, 2271091, 2257899, 2263003, 2255026])"
   ]
  },
  {
   "cell_type": "code",
   "execution_count": 81,
   "id": "a7c9b638-31ca-41ad-b7d8-8f172a2f85b8",
   "metadata": {},
   "outputs": [
    {
     "data": {
      "text/plain": [
       "array([ 5.48297909e+05,  7.49658250e+05,  5.23128909e+05,  7.47438250e+05,\n",
       "        2.26238775e+06,  7.65291250e+05,  5.69483909e+05,  6.19525273e+05,\n",
       "       -1.51175000e+03,  6.10737273e+05, -7.80675000e+03, -1.50835575e+06,\n",
       "        2.27109100e+06,  6.16988273e+05,  6.15250000e+02,  6.14115273e+05])"
      ]
     },
     "execution_count": 81,
     "metadata": {},
     "output_type": "execute_result"
    }
   ],
   "source": [
    "np.linalg.solve(A, b)"
   ]
  },
  {
   "cell_type": "code",
   "execution_count": 93,
   "id": "90f43588-5a8e-47fe-99cc-774121c6c5a0",
   "metadata": {},
   "outputs": [
    {
     "data": {
      "text/plain": [
       "False"
      ]
     },
     "execution_count": 93,
     "metadata": {},
     "output_type": "execute_result"
    }
   ],
   "source": [
    "x = np.linalg.solve(A, b)\n",
    "\n",
    "def detectSign(arr):\n",
    "    flag = 1\n",
    "    for i in arr:\n",
    "        if i < 0:\n",
    "            flag *= -1\n",
    "    if flag==1:\n",
    "        return True\n",
    "    else:\n",
    "        return False\n",
    "\n",
    "detectSign(x)"
   ]
  },
  {
   "cell_type": "code",
   "execution_count": 101,
   "id": "393b26ac-7e0a-4084-a93f-af49b80a09fa",
   "metadata": {},
   "outputs": [
    {
     "data": {
      "text/plain": [
       "False"
      ]
     },
     "execution_count": 101,
     "metadata": {},
     "output_type": "execute_result"
    }
   ],
   "source": [
    "# change the center value to find a set of positive solutions\n",
    "signs = []\n",
    "for i in np.linspace(754032-6187.25, 754032+6187.25+1, 500):\n",
    "    center = i\n",
    "    b = np.array([3009664, 3012046, 2984495, 3009826, center, 3027679, 3030850, \n",
    "              2260436, 2260876, 2251648, 2254581, center, 2271091, 2257899, 2263003, 2255026])\n",
    "    x = np.linalg.solve(A, b)\n",
    "    signs.append(detectSign(x))\n",
    "np.any(signs)"
   ]
  },
  {
   "cell_type": "code",
   "execution_count": null,
   "id": "007140e4-d64e-4a01-ab96-ec729ceee5f0",
   "metadata": {},
   "outputs": [],
   "source": [
    "# change values within the error range to find a set of positive solutions\n",
    "signs = []\n",
    "error = 6187.25\n",
    "b = np.array([3009664, 3012046, 2984495, 3009826, 754032, 3027679, 3030850, \n",
    "              2260436, 2260876, 2251648, 2254581, 754032, 2271091, 2257899, 2263003, 2255026])\n",
    "\n",
    "for i0 in np.linspace(b[0]-error, b[0]+error, 5):\n",
    "    for i1 in np.linspace(b[1]-error, b[1]+error, 5):\n",
    "        for i2 in np.linspace(b[2]-error, b[2]+error, 5):\n",
    "            for i3 in np.linspace(b[3]-error, b[3]+error, 5):\n",
    "                for i4 in np.linspace(b[4]-error, b[4]+error, 5): # center\n",
    "                    for i5 in np.linspace(b[5]-error, b[5]+error, 5):\n",
    "                        for i6 in np.linspace(b[6]-error, b[6]+error, 5):\n",
    "                            for i7 in np.linspace(b[7]-error, b[7]+error, 5):\n",
    "                                for i8 in np.linspace(b[8]-error, b[8]+error, 5):\n",
    "                                    for i9 in np.linspace(b[9]-error, b[9]+error, 5):\n",
    "                                        for i10 in np.linspace(b[10]-error, b[10]+error, 5):\n",
    "                                            for i11 in np.linspace(b[11]-error, b[11]+error, 5):\n",
    "                                                for i12 in np.linspace(b[12]-error, b[12]+error, 5):\n",
    "                                                    for i13 in np.linspace(b[13]-error, b[13]+error, 5):\n",
    "                                                        for i14 in np.linspace(b[14]-error, b[14]+error, 5):\n",
    "                                                            b = np.array([i0, i1, i2, i3, i4, i5, i6, \n",
    "                                                                      i7, i8, i9, i10, i4, i11, i12, i13, i14])\n",
    "                                                            x = np.linalg.solve(A, b)\n",
    "                                                            signs.append(detectSign(x))\n",
    "np.any(signs)"
   ]
  },
  {
   "cell_type": "code",
   "execution_count": null,
   "id": "74a31c6c-9d29-4914-985b-62bde94589d0",
   "metadata": {},
   "outputs": [],
   "source": []
  }
 ],
 "metadata": {
  "kernelspec": {
   "display_name": "Python 3 (ipykernel)",
   "language": "python",
   "name": "python3"
  },
  "language_info": {
   "codemirror_mode": {
    "name": "ipython",
    "version": 3
   },
   "file_extension": ".py",
   "mimetype": "text/x-python",
   "name": "python",
   "nbconvert_exporter": "python",
   "pygments_lexer": "ipython3",
   "version": "3.10.0"
  }
 },
 "nbformat": 4,
 "nbformat_minor": 5
}
